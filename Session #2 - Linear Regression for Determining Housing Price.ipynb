{
 "cells": [
  {
   "cell_type": "markdown",
   "id": "d7acb2d2",
   "metadata": {},
   "source": [
    "### Assignment from - https://github.com/alexeygrigorev/mlbookcamp-code/blob/master/course-zoomcamp/cohorts/2022/02-regression/homework.md\n",
    "\n",
    "### Dataset from - https://www.kaggle.com/datasets/camnugent/california-housing-prices"
   ]
  },
  {
   "cell_type": "markdown",
   "id": "58f8018f",
   "metadata": {},
   "source": [
    "## The goal of this notebook is to create a linear regression model for predicting house prices, median_house_value will be what the model will predict."
   ]
  },
  {
   "cell_type": "code",
   "execution_count": 1,
   "id": "c209a2d5",
   "metadata": {},
   "outputs": [],
   "source": [
    "# Importing neccessary libraries\n",
    "import pandas as pd\n",
    "import numpy as np\n",
    "\n",
    "import seaborn as sns\n",
    "from matplotlib import pyplot as plt\n",
    "%matplotlib inline"
   ]
  },
  {
   "cell_type": "code",
   "execution_count": 2,
   "id": "387b326f",
   "metadata": {},
   "outputs": [],
   "source": [
    "# Loading the housing data\n",
    "df = pd.read_csv(\"housing.csv\")"
   ]
  },
  {
   "cell_type": "code",
   "execution_count": 3,
   "id": "b3ab2678",
   "metadata": {},
   "outputs": [
    {
     "data": {
      "text/plain": [
       "(20640, 10)"
      ]
     },
     "execution_count": 3,
     "metadata": {},
     "output_type": "execute_result"
    }
   ],
   "source": [
    "# Getting the number of rows and columns in the dataset\n",
    "df.shape"
   ]
  },
  {
   "cell_type": "code",
   "execution_count": 4,
   "id": "0696ab91",
   "metadata": {},
   "outputs": [
    {
     "data": {
      "text/html": [
       "<div>\n",
       "<style scoped>\n",
       "    .dataframe tbody tr th:only-of-type {\n",
       "        vertical-align: middle;\n",
       "    }\n",
       "\n",
       "    .dataframe tbody tr th {\n",
       "        vertical-align: top;\n",
       "    }\n",
       "\n",
       "    .dataframe thead th {\n",
       "        text-align: right;\n",
       "    }\n",
       "</style>\n",
       "<table border=\"1\" class=\"dataframe\">\n",
       "  <thead>\n",
       "    <tr style=\"text-align: right;\">\n",
       "      <th></th>\n",
       "      <th>longitude</th>\n",
       "      <th>latitude</th>\n",
       "      <th>housing_median_age</th>\n",
       "      <th>total_rooms</th>\n",
       "      <th>total_bedrooms</th>\n",
       "      <th>population</th>\n",
       "      <th>households</th>\n",
       "      <th>median_income</th>\n",
       "      <th>median_house_value</th>\n",
       "      <th>ocean_proximity</th>\n",
       "    </tr>\n",
       "  </thead>\n",
       "  <tbody>\n",
       "    <tr>\n",
       "      <th>0</th>\n",
       "      <td>-122.23</td>\n",
       "      <td>37.88</td>\n",
       "      <td>41.0</td>\n",
       "      <td>880.0</td>\n",
       "      <td>129.0</td>\n",
       "      <td>322.0</td>\n",
       "      <td>126.0</td>\n",
       "      <td>8.3252</td>\n",
       "      <td>452600.0</td>\n",
       "      <td>NEAR BAY</td>\n",
       "    </tr>\n",
       "    <tr>\n",
       "      <th>1</th>\n",
       "      <td>-122.22</td>\n",
       "      <td>37.86</td>\n",
       "      <td>21.0</td>\n",
       "      <td>7099.0</td>\n",
       "      <td>1106.0</td>\n",
       "      <td>2401.0</td>\n",
       "      <td>1138.0</td>\n",
       "      <td>8.3014</td>\n",
       "      <td>358500.0</td>\n",
       "      <td>NEAR BAY</td>\n",
       "    </tr>\n",
       "    <tr>\n",
       "      <th>2</th>\n",
       "      <td>-122.24</td>\n",
       "      <td>37.85</td>\n",
       "      <td>52.0</td>\n",
       "      <td>1467.0</td>\n",
       "      <td>190.0</td>\n",
       "      <td>496.0</td>\n",
       "      <td>177.0</td>\n",
       "      <td>7.2574</td>\n",
       "      <td>352100.0</td>\n",
       "      <td>NEAR BAY</td>\n",
       "    </tr>\n",
       "    <tr>\n",
       "      <th>3</th>\n",
       "      <td>-122.25</td>\n",
       "      <td>37.85</td>\n",
       "      <td>52.0</td>\n",
       "      <td>1274.0</td>\n",
       "      <td>235.0</td>\n",
       "      <td>558.0</td>\n",
       "      <td>219.0</td>\n",
       "      <td>5.6431</td>\n",
       "      <td>341300.0</td>\n",
       "      <td>NEAR BAY</td>\n",
       "    </tr>\n",
       "    <tr>\n",
       "      <th>4</th>\n",
       "      <td>-122.25</td>\n",
       "      <td>37.85</td>\n",
       "      <td>52.0</td>\n",
       "      <td>1627.0</td>\n",
       "      <td>280.0</td>\n",
       "      <td>565.0</td>\n",
       "      <td>259.0</td>\n",
       "      <td>3.8462</td>\n",
       "      <td>342200.0</td>\n",
       "      <td>NEAR BAY</td>\n",
       "    </tr>\n",
       "    <tr>\n",
       "      <th>5</th>\n",
       "      <td>-122.25</td>\n",
       "      <td>37.85</td>\n",
       "      <td>52.0</td>\n",
       "      <td>919.0</td>\n",
       "      <td>213.0</td>\n",
       "      <td>413.0</td>\n",
       "      <td>193.0</td>\n",
       "      <td>4.0368</td>\n",
       "      <td>269700.0</td>\n",
       "      <td>NEAR BAY</td>\n",
       "    </tr>\n",
       "    <tr>\n",
       "      <th>6</th>\n",
       "      <td>-122.25</td>\n",
       "      <td>37.84</td>\n",
       "      <td>52.0</td>\n",
       "      <td>2535.0</td>\n",
       "      <td>489.0</td>\n",
       "      <td>1094.0</td>\n",
       "      <td>514.0</td>\n",
       "      <td>3.6591</td>\n",
       "      <td>299200.0</td>\n",
       "      <td>NEAR BAY</td>\n",
       "    </tr>\n",
       "    <tr>\n",
       "      <th>7</th>\n",
       "      <td>-122.25</td>\n",
       "      <td>37.84</td>\n",
       "      <td>52.0</td>\n",
       "      <td>3104.0</td>\n",
       "      <td>687.0</td>\n",
       "      <td>1157.0</td>\n",
       "      <td>647.0</td>\n",
       "      <td>3.1200</td>\n",
       "      <td>241400.0</td>\n",
       "      <td>NEAR BAY</td>\n",
       "    </tr>\n",
       "    <tr>\n",
       "      <th>8</th>\n",
       "      <td>-122.26</td>\n",
       "      <td>37.84</td>\n",
       "      <td>42.0</td>\n",
       "      <td>2555.0</td>\n",
       "      <td>665.0</td>\n",
       "      <td>1206.0</td>\n",
       "      <td>595.0</td>\n",
       "      <td>2.0804</td>\n",
       "      <td>226700.0</td>\n",
       "      <td>NEAR BAY</td>\n",
       "    </tr>\n",
       "    <tr>\n",
       "      <th>9</th>\n",
       "      <td>-122.25</td>\n",
       "      <td>37.84</td>\n",
       "      <td>52.0</td>\n",
       "      <td>3549.0</td>\n",
       "      <td>707.0</td>\n",
       "      <td>1551.0</td>\n",
       "      <td>714.0</td>\n",
       "      <td>3.6912</td>\n",
       "      <td>261100.0</td>\n",
       "      <td>NEAR BAY</td>\n",
       "    </tr>\n",
       "  </tbody>\n",
       "</table>\n",
       "</div>"
      ],
      "text/plain": [
       "   longitude  latitude  housing_median_age  total_rooms  total_bedrooms  \\\n",
       "0    -122.23     37.88                41.0        880.0           129.0   \n",
       "1    -122.22     37.86                21.0       7099.0          1106.0   \n",
       "2    -122.24     37.85                52.0       1467.0           190.0   \n",
       "3    -122.25     37.85                52.0       1274.0           235.0   \n",
       "4    -122.25     37.85                52.0       1627.0           280.0   \n",
       "5    -122.25     37.85                52.0        919.0           213.0   \n",
       "6    -122.25     37.84                52.0       2535.0           489.0   \n",
       "7    -122.25     37.84                52.0       3104.0           687.0   \n",
       "8    -122.26     37.84                42.0       2555.0           665.0   \n",
       "9    -122.25     37.84                52.0       3549.0           707.0   \n",
       "\n",
       "   population  households  median_income  median_house_value ocean_proximity  \n",
       "0       322.0       126.0         8.3252            452600.0        NEAR BAY  \n",
       "1      2401.0      1138.0         8.3014            358500.0        NEAR BAY  \n",
       "2       496.0       177.0         7.2574            352100.0        NEAR BAY  \n",
       "3       558.0       219.0         5.6431            341300.0        NEAR BAY  \n",
       "4       565.0       259.0         3.8462            342200.0        NEAR BAY  \n",
       "5       413.0       193.0         4.0368            269700.0        NEAR BAY  \n",
       "6      1094.0       514.0         3.6591            299200.0        NEAR BAY  \n",
       "7      1157.0       647.0         3.1200            241400.0        NEAR BAY  \n",
       "8      1206.0       595.0         2.0804            226700.0        NEAR BAY  \n",
       "9      1551.0       714.0         3.6912            261100.0        NEAR BAY  "
      ]
     },
     "execution_count": 4,
     "metadata": {},
     "output_type": "execute_result"
    }
   ],
   "source": [
    "# Looking at the first 10 rows in the housing dataset\n",
    "df.head(10)"
   ]
  },
  {
   "cell_type": "code",
   "execution_count": 5,
   "id": "2a20cb1d",
   "metadata": {},
   "outputs": [
    {
     "data": {
      "text/plain": [
       "Index(['longitude', 'latitude', 'housing_median_age', 'total_rooms',\n",
       "       'total_bedrooms', 'population', 'households', 'median_income',\n",
       "       'median_house_value', 'ocean_proximity'],\n",
       "      dtype='object')"
      ]
     },
     "execution_count": 5,
     "metadata": {},
     "output_type": "execute_result"
    }
   ],
   "source": [
    "# Getting the column names of the housing dataset\n",
    "df.columns"
   ]
  },
  {
   "cell_type": "code",
   "execution_count": 6,
   "id": "a5c9dc37",
   "metadata": {},
   "outputs": [
    {
     "data": {
      "text/plain": [
       "longitude             float64\n",
       "latitude              float64\n",
       "housing_median_age    float64\n",
       "total_rooms           float64\n",
       "total_bedrooms        float64\n",
       "population            float64\n",
       "households            float64\n",
       "median_income         float64\n",
       "median_house_value    float64\n",
       "ocean_proximity        object\n",
       "dtype: object"
      ]
     },
     "execution_count": 6,
     "metadata": {},
     "output_type": "execute_result"
    }
   ],
   "source": [
    "# Getting the datatypes of the different columns\n",
    "df.dtypes"
   ]
  },
  {
   "cell_type": "code",
   "execution_count": 7,
   "id": "7e26852d",
   "metadata": {},
   "outputs": [
    {
     "name": "stdout",
     "output_type": "stream",
     "text": [
      "<class 'pandas.core.frame.DataFrame'>\n",
      "RangeIndex: 20640 entries, 0 to 20639\n",
      "Data columns (total 10 columns):\n",
      " #   Column              Non-Null Count  Dtype  \n",
      "---  ------              --------------  -----  \n",
      " 0   longitude           20640 non-null  float64\n",
      " 1   latitude            20640 non-null  float64\n",
      " 2   housing_median_age  20640 non-null  float64\n",
      " 3   total_rooms         20640 non-null  float64\n",
      " 4   total_bedrooms      20433 non-null  float64\n",
      " 5   population          20640 non-null  float64\n",
      " 6   households          20640 non-null  float64\n",
      " 7   median_income       20640 non-null  float64\n",
      " 8   median_house_value  20640 non-null  float64\n",
      " 9   ocean_proximity     20640 non-null  object \n",
      "dtypes: float64(9), object(1)\n",
      "memory usage: 1.6+ MB\n"
     ]
    }
   ],
   "source": [
    "# Getting additional info on the dataset\n",
    "df.info()"
   ]
  },
  {
   "cell_type": "code",
   "execution_count": 8,
   "id": "b0aeae66",
   "metadata": {},
   "outputs": [
    {
     "data": {
      "text/plain": [
       "longitude               0\n",
       "latitude                0\n",
       "housing_median_age      0\n",
       "total_rooms             0\n",
       "total_bedrooms        207\n",
       "population              0\n",
       "households              0\n",
       "median_income           0\n",
       "median_house_value      0\n",
       "ocean_proximity         0\n",
       "dtype: int64"
      ]
     },
     "execution_count": 8,
     "metadata": {},
     "output_type": "execute_result"
    }
   ],
   "source": [
    "# Determining the number of missing values in the different columns in the housing dataset\n",
    "df.isnull().sum()"
   ]
  },
  {
   "cell_type": "code",
   "execution_count": 9,
   "id": "4345e3fc",
   "metadata": {},
   "outputs": [
    {
     "data": {
      "image/png": "[encoded data removed]",
      "text/plain": [
       "<Figure size 2500x2000 with 9 Axes>"
      ]
     },
     "metadata": {},
     "output_type": "display_data"
    }
   ],
   "source": [
    "# EDA\n",
    "\n",
    "# Looking at the distributions of the different columns in the dataframe\n",
    "sns.set_style(\"darkgrid\")\n",
    "df.hist(figsize = (25, 20))\n",
    "plt.show()"
   ]
  },
  {
   "cell_type": "markdown",
   "id": "f0d11d07",
   "metadata": {},
   "source": [
    "### Looking at the histgram distributions, the target, \"median_house_value\" does have a long tail to the right. To avoid confusing the linear regression model, a logl transformation will be applied to make \"median_house_value\" a normal distribution."
   ]
  },
  {
   "cell_type": "code",
   "execution_count": 10,
   "id": "aae4d132",
   "metadata": {},
   "outputs": [
    {
     "name": "stdout",
     "output_type": "stream",
     "text": [
      "<class 'pandas.core.frame.DataFrame'>\n",
      "RangeIndex: 20640 entries, 0 to 20639\n",
      "Data columns (total 9 columns):\n",
      " #   Column              Non-Null Count  Dtype  \n",
      "---  ------              --------------  -----  \n",
      " 0   longitude           20640 non-null  float64\n",
      " 1   latitude            20640 non-null  float64\n",
      " 2   housing_median_age  20640 non-null  float64\n",
      " 3   total_rooms         20640 non-null  float64\n",
      " 4   total_bedrooms      20433 non-null  float64\n",
      " 5   population          20640 non-null  float64\n",
      " 6   households          20640 non-null  float64\n",
      " 7   median_income       20640 non-null  float64\n",
      " 8   median_house_value  20640 non-null  float64\n",
      "dtypes: float64(9)\n",
      "memory usage: 1.4 MB\n"
     ]
    }
   ],
   "source": [
    "# Making a new dataframe with just numerical dataypes\n",
    "df_numerical = df.select_dtypes(include = np.number, exclude = object)\n",
    "\n",
    "# Verifying df1 is just numerical datatypes\n",
    "df_numerical.info()"
   ]
  },
  {
   "cell_type": "markdown",
   "id": "20bd31db",
   "metadata": {},
   "source": [
    "### Question 1: Find a feature with missing values. How many missing values does it have"
   ]
  },
  {
   "cell_type": "code",
   "execution_count": 11,
   "id": "91718386",
   "metadata": {},
   "outputs": [
    {
     "data": {
      "text/plain": [
       "longitude               0\n",
       "latitude                0\n",
       "housing_median_age      0\n",
       "total_rooms             0\n",
       "total_bedrooms        207\n",
       "population              0\n",
       "households              0\n",
       "median_income           0\n",
       "median_house_value      0\n",
       "dtype: int64"
      ]
     },
     "execution_count": 11,
     "metadata": {},
     "output_type": "execute_result"
    }
   ],
   "source": [
    "# Determining the number of missing values in the different columns in the housing dataset\n",
    "df_numerical.isnull().sum()"
   ]
  },
  {
   "cell_type": "markdown",
   "id": "40cce1f3",
   "metadata": {},
   "source": [
    "### Question 1 Answer: \"total_bredrooms\" is missing values and is missing 207 values."
   ]
  },
  {
   "cell_type": "markdown",
   "id": "71e23b97",
   "metadata": {},
   "source": [
    "### Question 2: What's the median (50% percentile) for the variable \"population\"?"
   ]
  },
  {
   "cell_type": "code",
   "execution_count": 12,
   "id": "c002ff14",
   "metadata": {},
   "outputs": [
    {
     "data": {
      "text/plain": [
       "1166.0"
      ]
     },
     "execution_count": 12,
     "metadata": {},
     "output_type": "execute_result"
    }
   ],
   "source": [
    "# Calculating median for \"population\"\n",
    "df_numerical[\"population\"].median()"
   ]
  },
  {
   "cell_type": "markdown",
   "id": "0102f82b",
   "metadata": {},
   "source": [
    "### Question 2 Answer: The median is 1166."
   ]
  },
  {
   "cell_type": "code",
   "execution_count": 13,
   "id": "95439caf",
   "metadata": {},
   "outputs": [],
   "source": [
    "# Splitting the data in preparation for building, training, and testing a linear regression model"
   ]
  },
  {
   "cell_type": "code",
   "execution_count": 14,
   "id": "298d4db0",
   "metadata": {},
   "outputs": [],
   "source": [
    "# Defining a seed of 42 for shuffling the dataset\n",
    "np.random.seed(42)\n",
    "\n",
    "# Defining the train/val/test splits, using 60% / 20% / 20%  of the distribution\n",
    "n = len(df_numerical)\n",
    "\n",
    "n_val = int(0.2 * n)\n",
    "n_test = int(0.2 * n)\n",
    "n_train = n - (n_val + n_test)"
   ]
  },
  {
   "cell_type": "code",
   "execution_count": 15,
   "id": "05fc37c7",
   "metadata": {},
   "outputs": [],
   "source": [
    "# Shuffling the data\n",
    "idx = np.arange(n)\n",
    "np.random.shuffle(idx)\n",
    "\n",
    "df_shuffled = df_numerical.iloc[idx]"
   ]
  },
  {
   "cell_type": "code",
   "execution_count": 16,
   "id": "5f256bf8",
   "metadata": {},
   "outputs": [],
   "source": [
    "# Creating the train, validate, and test dataframes\n",
    "df_train = df_shuffled.iloc[:n_train].copy()\n",
    "df_val = df_shuffled.iloc[n_train:n_train + n_val].copy()\n",
    "df_test = df_shuffled.iloc[n_train + n_val:].copy()"
   ]
  },
  {
   "cell_type": "code",
   "execution_count": 17,
   "id": "105df3eb",
   "metadata": {},
   "outputs": [],
   "source": [
    "# Specifying the target, \"median_house_value\", for use in determining the model's performance\n",
    "y_train_orig = df_train.median_house_value\n",
    "y_val_orig = df_val.median_house_value\n",
    "y_test_orig = df_test.median_house_value\n",
    "\n",
    "# Applying log transformation to the target, \"median_house_value\" since the target is skewed to the right\n",
    "y_train = np.log1p(df_train.median_house_value)\n",
    "y_val = np.log1p(df_val.median_house_value)\n",
    "y_test = np.log1p(df_test.median_house_value)"
   ]
  },
  {
   "cell_type": "code",
   "execution_count": 18,
   "id": "85cba900",
   "metadata": {},
   "outputs": [],
   "source": [
    "# Deleting the target, \"median_house_value\", from the train, validation, and test dataframes to eliminate target leakage from happening\n",
    "del df_train[\"median_house_value\"]\n",
    "del df_val[\"median_house_value\"]\n",
    "del df_test[\"median_house_value\"]"
   ]
  },
  {
   "cell_type": "code",
   "execution_count": 19,
   "id": "602f4836",
   "metadata": {},
   "outputs": [
    {
     "name": "stdout",
     "output_type": "stream",
     "text": [
      "The shape of the dataframe is: (12384, 8)\n",
      "The shape of the dataframe is: (4128, 8)\n",
      "The shape of the dataframe is: (4128, 8)\n"
     ]
    }
   ],
   "source": [
    "# Getting the shapes for the new dataframes\n",
    "dataframes = [df_train, df_val, df_test]\n",
    "\n",
    "for dataframe in dataframes:\n",
    "    print(\"The shape of the dataframe is:\", dataframe.shape)"
   ]
  },
  {
   "cell_type": "code",
   "execution_count": 20,
   "id": "5e43b037",
   "metadata": {},
   "outputs": [
    {
     "data": {
      "text/plain": [
       "longitude               0\n",
       "latitude                0\n",
       "housing_median_age      0\n",
       "total_rooms             0\n",
       "total_bedrooms        207\n",
       "population              0\n",
       "households              0\n",
       "median_income           0\n",
       "dtype: int64"
      ]
     },
     "execution_count": 20,
     "metadata": {},
     "output_type": "execute_result"
    }
   ],
   "source": [
    "# Determining where missing values are in the different dataframes\n",
    "# df_train\n",
    "df_train.isnull().sum()"
   ]
  },
  {
   "cell_type": "code",
   "execution_count": 21,
   "id": "cedffffd",
   "metadata": {},
   "outputs": [
    {
     "data": {
      "text/plain": [
       "longitude             0\n",
       "latitude              0\n",
       "housing_median_age    0\n",
       "total_rooms           0\n",
       "total_bedrooms        0\n",
       "population            0\n",
       "households            0\n",
       "median_income         0\n",
       "dtype: int64"
      ]
     },
     "execution_count": 21,
     "metadata": {},
     "output_type": "execute_result"
    }
   ],
   "source": [
    "# df_val\n",
    "df_val.isnull().sum()"
   ]
  },
  {
   "cell_type": "code",
   "execution_count": 22,
   "id": "182d9c54",
   "metadata": {},
   "outputs": [
    {
     "data": {
      "text/plain": [
       "longitude             0\n",
       "latitude              0\n",
       "housing_median_age    0\n",
       "total_rooms           0\n",
       "total_bedrooms        0\n",
       "population            0\n",
       "households            0\n",
       "median_income         0\n",
       "dtype: int64"
      ]
     },
     "execution_count": 22,
     "metadata": {},
     "output_type": "execute_result"
    }
   ],
   "source": [
    "# df_test\n",
    "df_test.isnull().sum()"
   ]
  },
  {
   "cell_type": "markdown",
   "id": "1c20f3ec",
   "metadata": {},
   "source": [
    "### Question 3: \n",
    "\n",
    "* We need to deal with missing values for the column from Q1.\n",
    "* We have two options: fill it with 0 or with the mean of this variable.\n",
    "* Try both options. For each, train a linear regression model without regularization using the code from the lessons.\n",
    "* For computing the mean, use the training only!\n",
    "* Use the validation dataset to evaluate the models and compare the RMSE of each option.\n",
    "* Round the RMSE scores to 2 decimal digits using round(score, 2)\n",
    "* Which option gives better RMSE?\n",
    "\n",
    "Options:\n",
    "\n",
    "* With 0\n",
    "* With mean\n",
    "* Both are equally good"
   ]
  },
  {
   "cell_type": "code",
   "execution_count": 23,
   "id": "707123be",
   "metadata": {},
   "outputs": [],
   "source": [
    "# Defining a funcation to create a linear regression model\n",
    "def train_linear_regression(X, y):\n",
    "    ones = np.ones(X.shape[0])\n",
    "    X = np.column_stack([ones, X])\n",
    "\n",
    "    XTX = X.T.dot(X)\n",
    "    XTX_inv = np.linalg.inv(XTX)\n",
    "    w = XTX_inv.dot(X.T).dot(y)\n",
    "    \n",
    "    return w[0], w[1:]\n",
    "\n",
    "#w[0] represents weights for the bias and w[1:] represents the features"
   ]
  },
  {
   "cell_type": "code",
   "execution_count": 24,
   "id": "0d23f146",
   "metadata": {},
   "outputs": [],
   "source": [
    "# Defining a function to calculate Root Mean Square Error (RMSE)\n",
    "def rmse(y, y_pred):\n",
    "    error = y_pred - y\n",
    "    mse = (error ** 2).mean()\n",
    "    return np.sqrt(mse)"
   ]
  },
  {
   "cell_type": "code",
   "execution_count": 25,
   "id": "1b70d5ce",
   "metadata": {},
   "outputs": [
    {
     "data": {
      "text/plain": [
       "533.4803317730147"
      ]
     },
     "execution_count": 25,
     "metadata": {},
     "output_type": "execute_result"
    }
   ],
   "source": [
    "# Calculating current mean for \"total_bedrooms\"\n",
    "df_train[\"total_bedrooms\"].mean()"
   ]
  },
  {
   "cell_type": "code",
   "execution_count": 26,
   "id": "436ae676",
   "metadata": {},
   "outputs": [],
   "source": [
    "# Option 1 - Filling missing values with 0 for \"total_bedrooms\"\n",
    "df_train_option_1 = df_train.copy()\n",
    "\n",
    "# Using fillna to filling NA values with 0\n",
    "df_train_option_1[\"total_bedrooms\"] = df_train_option_1[\"total_bedrooms\"].fillna(0)"
   ]
  },
  {
   "cell_type": "code",
   "execution_count": 27,
   "id": "f552821b",
   "metadata": {},
   "outputs": [
    {
     "data": {
      "text/plain": [
       "524.5631459948321"
      ]
     },
     "execution_count": 27,
     "metadata": {},
     "output_type": "execute_result"
    }
   ],
   "source": [
    "# Option 1 - Calculating the new mean\n",
    "df_train_option_1[\"total_bedrooms\"].mean()"
   ]
  },
  {
   "cell_type": "code",
   "execution_count": 28,
   "id": "4393296e",
   "metadata": {},
   "outputs": [
    {
     "data": {
      "text/plain": [
       "longitude             0\n",
       "latitude              0\n",
       "housing_median_age    0\n",
       "total_rooms           0\n",
       "total_bedrooms        0\n",
       "population            0\n",
       "households            0\n",
       "median_income         0\n",
       "dtype: int64"
      ]
     },
     "execution_count": 28,
     "metadata": {},
     "output_type": "execute_result"
    }
   ],
   "source": [
    "# Confirming no missing values in the dataframe\n",
    "df_train_option_1.isnull().sum()"
   ]
  },
  {
   "cell_type": "code",
   "execution_count": 29,
   "id": "8d165d1e",
   "metadata": {},
   "outputs": [],
   "source": [
    "# Training a linear regression model with option 1\n",
    "w_0, w = train_linear_regression(df_train_option_1, y_train)"
   ]
  },
  {
   "cell_type": "code",
   "execution_count": 30,
   "id": "858c4acd",
   "metadata": {},
   "outputs": [],
   "source": [
    "# Calculating prediction with Option 1's weights using validation data\n",
    "y_pred_option_1 = w_0 + df_val.dot(w)"
   ]
  },
  {
   "cell_type": "code",
   "execution_count": 31,
   "id": "ff560e1c",
   "metadata": {},
   "outputs": [
    {
     "data": {
      "text/plain": [
       "0.33"
      ]
     },
     "execution_count": 31,
     "metadata": {},
     "output_type": "execute_result"
    }
   ],
   "source": [
    "# Calculating RMSE with validation data for Option 1\n",
    "round(rmse(y_val, y_pred_option_1), 2)"
   ]
  },
  {
   "cell_type": "code",
   "execution_count": 32,
   "id": "99a2b6fe",
   "metadata": {},
   "outputs": [],
   "source": [
    "# Option 2 - Filling missing values with mean for \"total_bedrooms\"\n",
    "df_train_option_2 = df_train.copy()\n",
    "\n",
    "# Using fillna to filling NA values with mean for \"total_bedrooms\"\n",
    "df_train_option_2[\"total_bedrooms\"] = df_train_option_2[\"total_bedrooms\"].fillna(df_train_option_2[\"total_bedrooms\"].mean())"
   ]
  },
  {
   "cell_type": "code",
   "execution_count": 33,
   "id": "30c76537",
   "metadata": {},
   "outputs": [
    {
     "data": {
      "text/plain": [
       "533.4803317730147"
      ]
     },
     "execution_count": 33,
     "metadata": {},
     "output_type": "execute_result"
    }
   ],
   "source": [
    "# Option 2 - Calculating the new mean\n",
    "df_train_option_2[\"total_bedrooms\"].mean()"
   ]
  },
  {
   "cell_type": "code",
   "execution_count": 34,
   "id": "188ee71a",
   "metadata": {},
   "outputs": [
    {
     "data": {
      "text/plain": [
       "longitude             0\n",
       "latitude              0\n",
       "housing_median_age    0\n",
       "total_rooms           0\n",
       "total_bedrooms        0\n",
       "population            0\n",
       "households            0\n",
       "median_income         0\n",
       "dtype: int64"
      ]
     },
     "execution_count": 34,
     "metadata": {},
     "output_type": "execute_result"
    }
   ],
   "source": [
    "# Confirming no missing values in the dataframe\n",
    "df_train_option_2.isnull().sum()"
   ]
  },
  {
   "cell_type": "code",
   "execution_count": 35,
   "id": "fe72fb6f",
   "metadata": {},
   "outputs": [],
   "source": [
    "# Training a linear regression model with option 2\n",
    "w_0, w = train_linear_regression(df_train_option_2, y_train)"
   ]
  },
  {
   "cell_type": "code",
   "execution_count": 36,
   "id": "d8f0e229",
   "metadata": {},
   "outputs": [],
   "source": [
    "# Calculating prediction with Option 2's weights using validation data\n",
    "y_pred_option_2 = w_0 + df_val.dot(w)"
   ]
  },
  {
   "cell_type": "code",
   "execution_count": 37,
   "id": "5816bc6a",
   "metadata": {},
   "outputs": [
    {
     "data": {
      "text/plain": [
       "0.33"
      ]
     },
     "execution_count": 37,
     "metadata": {},
     "output_type": "execute_result"
    }
   ],
   "source": [
    "# Calculating RMSE with validation data for Option 2\n",
    "round(rmse(y_val, y_pred_option_2), 2)"
   ]
  },
  {
   "cell_type": "markdown",
   "id": "624d6f30",
   "metadata": {},
   "source": [
    "### Question 3 Answer: Both are equally good"
   ]
  },
  {
   "cell_type": "markdown",
   "id": "b5057ba1",
   "metadata": {},
   "source": [
    "### Question 4: \n",
    "\n",
    "* Now let's train a regularized linear regression.\n",
    "* For this question, fill the NAs with 0.\n",
    "* Try different values of r from this list: [0, 0.000001, 0.0001, 0.001, 0.01, 0.1, 1, 5, 10].\n",
    "* Use RMSE to evaluate the model on the validation dataset.\n",
    "* Round the RMSE scores to 2 decimal digits.\n",
    "* Which r gives the best RMSE?\n",
    "* If there are multiple options, select the smallest r.\n",
    "\n",
    "Options:\n",
    "\n",
    "* 0\n",
    "* 0.000001\n",
    "* 0.001\n",
    "* 0.0001"
   ]
  },
  {
   "cell_type": "code",
   "execution_count": 38,
   "id": "d2fd1b08",
   "metadata": {},
   "outputs": [],
   "source": [
    "# Function for introducing regularization to the linear regression model\n",
    "def train_linear_regression_reg(X, y, r=0.0):\n",
    "    ones = np.ones(X.shape[0])\n",
    "    X = np.column_stack([ones, X])\n",
    "\n",
    "    XTX = X.T.dot(X)\n",
    "    reg = r * np.eye(XTX.shape[0])\n",
    "    XTX = XTX + reg\n",
    "\n",
    "    XTX_inv = np.linalg.inv(XTX)\n",
    "    w = XTX_inv.dot(X.T).dot(y)\n",
    "    \n",
    "    return w[0], w[1:]"
   ]
  },
  {
   "cell_type": "code",
   "execution_count": 39,
   "id": "5048d3d4",
   "metadata": {},
   "outputs": [
    {
     "name": "stdout",
     "output_type": "stream",
     "text": [
      "    0, -11.69, 0.17, 0.17\n",
      "1e-06, -11.69, 0.17, 0.17\n",
      "0.0001, -11.69, 0.17, 0.17\n",
      "0.001, -11.67, 0.17, 0.17\n",
      " 0.01, -11.53, 0.17, 0.17\n",
      "  0.1, -10.27, 0.17, 0.17\n",
      "    1, -4.92, 0.18, 0.18\n",
      "    5, -1.48, 0.19, 0.19\n",
      "   10, -0.79, 0.19, 0.19\n"
     ]
    }
   ],
   "source": [
    "# Going to use df_train_option_1 since it already has filled NA's with 0\n",
    "for r in [0, 0.000001, 0.0001, 0.001, 0.01, 0.1, 1, 5, 10]:\n",
    "    w_0, w = train_linear_regression_reg(df_train_option_1, y_train, r = r)\n",
    "    print(\"%5s, %.2f, %.2f, %.2f\" % (r, w_0, w[7], w[7]))"
   ]
  },
  {
   "cell_type": "code",
   "execution_count": 40,
   "id": "73121871",
   "metadata": {},
   "outputs": [
    {
     "name": "stdout",
     "output_type": "stream",
     "text": [
      "val 0.33\n"
     ]
    }
   ],
   "source": [
    "# Calculating RMSE for r = 0\n",
    "w_0, w = train_linear_regression_reg(df_train_option_1, y_train, r = 0)\n",
    "\n",
    "# Calculating prediction with validation inputs using weight from regularized linear regression model\n",
    "y_pred_option_1 = w_0 + df_val.dot(w)\n",
    "print(\"val\", round(rmse(y_val, y_pred_option_1), 2))"
   ]
  },
  {
   "cell_type": "code",
   "execution_count": 41,
   "id": "0a866263",
   "metadata": {},
   "outputs": [
    {
     "name": "stdout",
     "output_type": "stream",
     "text": [
      "val 0.33\n"
     ]
    }
   ],
   "source": [
    "# Calculating RMSE for r = 0.000001\n",
    "w_0, w = train_linear_regression_reg(df_train_option_1, y_train, r = 0.000001)\n",
    "\n",
    "# Calculating prediction with validation inputs using weight from regularized linear regression model\n",
    "y_pred_option_1 = w_0 + df_val.dot(w)\n",
    "print(\"val\", round(rmse(y_val, y_pred_option_1), 2))"
   ]
  },
  {
   "cell_type": "code",
   "execution_count": 42,
   "id": "b5fb3d82",
   "metadata": {},
   "outputs": [
    {
     "name": "stdout",
     "output_type": "stream",
     "text": [
      "val 0.33\n"
     ]
    }
   ],
   "source": [
    "# Calculating RMSE for r = 0.0001\n",
    "w_0, w = train_linear_regression_reg(df_train_option_1, y_train, r = 0.0001)\n",
    "\n",
    "# Calculating prediction with validation inputs using weight from regularized linear regression model\n",
    "y_pred_option_1 = w_0 + df_val.dot(w)\n",
    "print(\"val\", round(rmse(y_val, y_pred_option_1), 2))"
   ]
  },
  {
   "cell_type": "code",
   "execution_count": 43,
   "id": "aea76464",
   "metadata": {},
   "outputs": [
    {
     "name": "stdout",
     "output_type": "stream",
     "text": [
      "val 0.33\n"
     ]
    }
   ],
   "source": [
    "# Calculating RMSE for r = 0.001\n",
    "w_0, w = train_linear_regression_reg(df_train_option_1, y_train, r = 0.001)\n",
    "\n",
    "# Calculating prediction with validation inputs using weight from regularized linear regression model\n",
    "y_pred_option_1 = w_0 + df_val.dot(w)\n",
    "print(\"val\", round(rmse(y_val, y_pred_option_1), 2))"
   ]
  },
  {
   "cell_type": "code",
   "execution_count": 44,
   "id": "ae9d5225",
   "metadata": {},
   "outputs": [
    {
     "name": "stdout",
     "output_type": "stream",
     "text": [
      "val 0.33\n"
     ]
    }
   ],
   "source": [
    "# Calculating RMSE for r = 0.01\n",
    "w_0, w = train_linear_regression_reg(df_train_option_1, y_train, r = 0.01)\n",
    "\n",
    "# Calculating prediction with validation inputs using weight from regularized linear regression model\n",
    "y_pred_option_1 = w_0 + df_val.dot(w)\n",
    "print(\"val\", round(rmse(y_val, y_pred_option_1), 2))"
   ]
  },
  {
   "cell_type": "code",
   "execution_count": 45,
   "id": "ee9b38b8",
   "metadata": {},
   "outputs": [
    {
     "name": "stdout",
     "output_type": "stream",
     "text": [
      "val 0.33\n"
     ]
    }
   ],
   "source": [
    "# Calculating RMSE for r = 0.1\n",
    "w_0, w = train_linear_regression_reg(df_train_option_1, y_train, r = 0.1)\n",
    "\n",
    "# Calculating prediction with validation inputs using weight from regularized linear regression model\n",
    "y_pred_option_1 = w_0 + df_val.dot(w)\n",
    "print(\"val\", round(rmse(y_val, y_pred_option_1), 2))"
   ]
  },
  {
   "cell_type": "code",
   "execution_count": 46,
   "id": "e4261c27",
   "metadata": {},
   "outputs": [
    {
     "name": "stdout",
     "output_type": "stream",
     "text": [
      "val 0.33\n"
     ]
    }
   ],
   "source": [
    "# Calculating RMSE for r = 1\n",
    "w_0, w = train_linear_regression_reg(df_train_option_1, y_train, r = 1)\n",
    "\n",
    "# Calculating prediction with validation inputs using weight from regularized linear regression model\n",
    "y_pred_option_1 = w_0 + df_val.dot(w)\n",
    "print(\"val\", round(rmse(y_val, y_pred_option_1), 2))"
   ]
  },
  {
   "cell_type": "code",
   "execution_count": 47,
   "id": "a75726c1",
   "metadata": {},
   "outputs": [
    {
     "name": "stdout",
     "output_type": "stream",
     "text": [
      "val 0.34\n"
     ]
    }
   ],
   "source": [
    "# Calculating RMSE for r = 5\n",
    "w_0, w = train_linear_regression_reg(df_train_option_1, y_train, r = 5)\n",
    "\n",
    "# Calculating prediction with validation inputs using weight from regularized linear regression model\n",
    "y_pred_option_1 = w_0 + df_val.dot(w)\n",
    "print(\"val\", round(rmse(y_val, y_pred_option_1), 2))"
   ]
  },
  {
   "cell_type": "code",
   "execution_count": 48,
   "id": "adb3a0f7",
   "metadata": {},
   "outputs": [
    {
     "name": "stdout",
     "output_type": "stream",
     "text": [
      "val 0.34\n"
     ]
    }
   ],
   "source": [
    "# Calculating RMSE for r = 10\n",
    "w_0, w = train_linear_regression_reg(df_train_option_1, y_train, r = 10)\n",
    "\n",
    "# Calculating prediction with validation inputs using weight from regularized linear regression model\n",
    "y_pred_option_1 = w_0 + df_val.dot(w)\n",
    "print(\"val\", round(rmse(y_val, y_pred_option_1), 2))"
   ]
  },
  {
   "cell_type": "markdown",
   "id": "d2b8aab9",
   "metadata": {},
   "source": [
    "### Question 4 Answer: 0.000001 gives the best RMSE"
   ]
  },
  {
   "cell_type": "markdown",
   "id": "99d0d605",
   "metadata": {},
   "source": [
    "### Question 5:\n",
    "\n",
    "* We used seed 42 for splitting the data. Let's find out how selecting the seed influences our score.\n",
    "* Try different seed values: [0, 1, 2, 3, 4, 5, 6, 7, 8, 9].\n",
    "* For each seed, do the train/validation/test split with 60%/20%/20% distribution.\n",
    "* Fill the missing values with 0 and train a model without regularization.\n",
    "* For each seed, evaluate the model on the validation dataset and collect the RMSE scores.\n",
    "* What's the standard deviation of all the scores? To compute the standard deviation, use np.std.\n",
    "* Round the result to 3 decimal digits (round(std, 3))\n",
    "* Note: Standard deviation shows how different the values are. If it's low, then all values are approximately the same. If it's high, the values are different. If standard deviation of scores is low, then our model is stable.\n",
    "\n",
    "Options:\n",
    "\n",
    "* 0.16\n",
    "* 0.00005\n",
    "* 0.005\n",
    "* 0.15555"
   ]
  },
  {
   "cell_type": "code",
   "execution_count": 49,
   "id": "ae7346fd",
   "metadata": {},
   "outputs": [
    {
     "name": "stdout",
     "output_type": "stream",
     "text": [
      "0 -11.900382137793882 0.34\n",
      "1 -11.732757373142956 0.34\n",
      "2 -11.806729360848621 0.33\n",
      "3 -11.587900347765268 0.34\n",
      "4 -11.389470588137371 0.34\n",
      "5 -11.447114276130682 0.34\n",
      "6 -11.370516351941152 0.35\n",
      "7 -12.473448918383832 0.34\n",
      "8 -11.800287429606277 0.35\n",
      "9 -11.459046830677936 0.34\n"
     ]
    }
   ],
   "source": [
    "# Creating a loop to iterate through different seed values\n",
    "\n",
    "# Initiating an empty list to store RMSE values for the different seed values\n",
    "rmse_val_list = []\n",
    "\n",
    "for r in [0, 1, 2, 3, 4, 5, 6, 7, 8, 9]:\n",
    "    # Shuffling the dataset\n",
    "    np.random.seed(r)\n",
    "\n",
    "    # Shuffling the data\n",
    "    idx = np.arange(n)\n",
    "    np.random.shuffle(idx)\n",
    "    \n",
    "    df_shuffled = df_numerical.iloc[idx]\n",
    "    \n",
    "    # Creating the train, validate, and test dataframes\n",
    "    df_train = df_shuffled.iloc[:n_train].copy()\n",
    "    df_val = df_shuffled.iloc[n_train:n_train + n_val].copy()\n",
    "    df_test = df_shuffled.iloc[n_train + n_val:].copy()\n",
    "    \n",
    "    # To avoid a new index getting added during each iteration\n",
    "    df_train = df_train.reset_index(drop = True)\n",
    "    df_val = df_val.reset_index(drop = True)\n",
    "    df_test = df_test.reset_index(drop = True)\n",
    "    \n",
    "    # Specifying the target, \"median_house_value\", for use in determining the model's performance\n",
    "    y_train_orig = df_train.median_house_value\n",
    "    y_val_orig = df_val.median_house_value\n",
    "    y_test_orig = df_test.median_house_value\n",
    "    \n",
    "    # Applying log transformation to the target, \"median_house_value\" since the target is skewed to the right\n",
    "    y_train = np.log1p(df_train.median_house_value)\n",
    "    y_val = np.log1p(df_val.median_house_value)\n",
    "    y_test = np.log1p(df_test.median_house_value)\n",
    "    \n",
    "    # Deleting the target, \"median_house_value\", from the train, validation, and test dataframes to eliminate target leakage from happening\n",
    "    del df_train[\"median_house_value\"]\n",
    "    del df_val[\"median_house_value\"]\n",
    "    del df_test[\"median_house_value\"]\n",
    "    \n",
    "    # Filling in any NA values with 0\n",
    "    df_null_train = df_train.fillna(0)\n",
    "    w_0, w = train_linear_regression(df_null_train, y_train)\n",
    "    \n",
    "    df_null_val = df_val.fillna(0)\n",
    "    y_null_reg_val = w_0 + df_null_val.dot(w)\n",
    "    rmse_val = np.round(rmse(y_val, y_null_reg_val), 2)\n",
    "    \n",
    "    rmse_val_list.append(rmse_val)\n",
    "    \n",
    "    print(r, w_0, rmse_val)"
   ]
  },
  {
   "cell_type": "code",
   "execution_count": 50,
   "id": "48712f27",
   "metadata": {},
   "outputs": [
    {
     "name": "stdout",
     "output_type": "stream",
     "text": [
      "Standard deviation of the given list: 0.005\n"
     ]
    }
   ],
   "source": [
    "# Calculating standard deviation for the list of RMSE values\n",
    "st_dev = round(np.std(rmse_val_list), 3)\n",
    "\n",
    "print(\"Standard deviation of the given list: \" + str(st_dev))"
   ]
  },
  {
   "cell_type": "markdown",
   "id": "bc1b0ad2",
   "metadata": {},
   "source": [
    "### Question 5 Answer: The standard deviation is 0.005."
   ]
  },
  {
   "cell_type": "markdown",
   "id": "0a5f8fe2",
   "metadata": {},
   "source": [
    "### Question 6:\n",
    "\n",
    "* Split the dataset like previously, use seed 9.\n",
    "* Combine train and validation datasets.\n",
    "* Fill the missing values with 0 and train a model with r=0.001.\n",
    "* What's the RMSE on the test dataset?\n",
    "\n",
    "Options:\n",
    "\n",
    "* 0.35\n",
    "* 0.135\n",
    "* 0.450\n",
    "* 0.245"
   ]
  },
  {
   "cell_type": "code",
   "execution_count": 51,
   "id": "79b36e9e",
   "metadata": {},
   "outputs": [
    {
     "name": "stdout",
     "output_type": "stream",
     "text": [
      "test 0.35\n"
     ]
    }
   ],
   "source": [
    "# Shuffling the dataset\n",
    "np.random.seed(9)\n",
    "\n",
    "# Shuffling the data\n",
    "idx = np.arange(n)\n",
    "np.random.shuffle(idx)\n",
    "    \n",
    "df_shuffled = df_numerical.iloc[idx]\n",
    "    \n",
    "# Creating the train, validate, and test dataframes\n",
    "df_train = df_shuffled.iloc[:n_train].copy()\n",
    "df_val = df_shuffled.iloc[n_train:n_train + n_val].copy()\n",
    "df_test = df_shuffled.iloc[n_train + n_val:].copy()\n",
    "    \n",
    "# Specifying the target, \"median_house_value\", for use in determining the model's performance\n",
    "y_train_orig = df_train.median_house_value\n",
    "y_val_orig = df_val.median_house_value\n",
    "y_test_orig = df_test.median_house_value\n",
    "    \n",
    "# Applying log transformation to the target, \"median_house_value\" since the target is skewed to the right\n",
    "y_train = np.log1p(df_train.median_house_value)\n",
    "y_val = np.log1p(df_val.median_house_value)\n",
    "y_test = np.log1p(df_test.median_house_value)\n",
    "    \n",
    "# Deleting the target, \"median_house_value\", from the train, validation, and test dataframes to eliminate target leakage from happening\n",
    "del df_train[\"median_house_value\"]\n",
    "del df_val[\"median_house_value\"]\n",
    "del df_test[\"median_house_value\"]\n",
    "\n",
    "# Joining training and validation dataframes together\n",
    "frames = [df_train, df_val]\n",
    "\n",
    "df_train_val = pd.concat(frames)\n",
    "\n",
    "# Joining target training and validation dataframes together\n",
    "target_frames = [y_train, y_val]\n",
    "\n",
    "y_train_val = pd.concat(target_frames)\n",
    "\n",
    "# Filling any missing values with 0 for df_train_val\n",
    "df_train_val = df_train_val.fillna(0)\n",
    "\n",
    "# Calculating RMSE for r = 0.001\n",
    "w_0, w = train_linear_regression_reg(df_train_val, y_train_val, r = 0.001)\n",
    "\n",
    "# Calculating prediction with train + val inputs using weight from regularized linear regression model\n",
    "df_test = df_test.fillna(0)\n",
    "y_pred_test = w_0 + df_test.dot(w)\n",
    "print(\"test\", round(rmse(y_test, y_pred_test), 2))"
   ]
  },
  {
   "cell_type": "markdown",
   "id": "4a2680b0",
   "metadata": {},
   "source": [
    "### Question 6 Answer: The RMSE for the test dataset is 0.35."
   ]
  }
 ],
 "metadata": {
  "kernelspec": {
   "display_name": "Python 3 (ipykernel)",
   "language": "python",
   "name": "python3"
  },
  "language_info": {
   "codemirror_mode": {
    "name": "ipython",
    "version": 3
   },
   "file_extension": ".py",
   "mimetype": "text/x-python",
   "name": "python",
   "nbconvert_exporter": "python",
   "pygments_lexer": "ipython3",
   "version": "3.8.12"
  }
 },
 "nbformat": 4,
 "nbformat_minor": 5
}
